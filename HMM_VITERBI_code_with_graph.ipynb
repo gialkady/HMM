{
  "nbformat": 4,
  "nbformat_minor": 0,
  "metadata": {
    "colab": {
      "provenance": []
    },
    "kernelspec": {
      "name": "python3",
      "display_name": "Python 3"
    },
    "language_info": {
      "name": "python"
    }
  },
  "cells": [
    {
      "cell_type": "code",
      "execution_count": 1,
      "metadata": {
        "id": "VIuz937oYszk"
      },
      "outputs": [],
      "source": [
        "import numpy as np\n",
        "import pandas as pd\n",
        "import networkx.drawing.nx_pydot as gl\n",
        "import networkx as nx\n",
        "import matplotlib.pyplot as plt\n",
        "from pprint import pprint\n",
        "##matplotlib inline"
      ]
    },
    {
      "cell_type": "code",
      "source": [
        "# create state space and initial state probabilities\n",
        "\n",
        "states = ['O1', 'O2', 'O3']\n",
        "pi = [0.25, 0.4, 0.35]\n",
        "state_space = pd.Series(pi, index=states, name='states')\n",
        "print(state_space)\n",
        "print(state_space.sum())"
      ],
      "metadata": {
        "colab": {
          "base_uri": "https://localhost:8080/"
        },
        "id": "fBUWLguSYz-z",
        "outputId": "632e0383-cf74-4f22-de55-81e25e1d68f1"
      },
      "execution_count": 2,
      "outputs": [
        {
          "output_type": "stream",
          "name": "stdout",
          "text": [
            "O1    0.25\n",
            "O2    0.40\n",
            "O3    0.35\n",
            "Name: states, dtype: float64\n",
            "1.0\n"
          ]
        }
      ]
    },
    {
      "cell_type": "code",
      "source": [
        "# create transition matrix\n",
        "# equals transition probability matrix of changing states given a state\n",
        "# matrix is size (M x M) where M is number of states\n",
        "\n",
        "q_df = pd.DataFrame(columns=states, index=states)\n",
        "q_df.loc[states[0]] = [0.4, 0.2, 0.4]\n",
        "q_df.loc[states[1]] = [0.45, 0.45, 0.1]\n",
        "q_df.loc[states[2]] = [0.45, 0.25, .3]\n",
        "\n",
        "print(q_df)"
      ],
      "metadata": {
        "colab": {
          "base_uri": "https://localhost:8080/"
        },
        "id": "5aRggouVZAC5",
        "outputId": "c6ffd6cc-7f6d-4bd4-b3e4-5bbea313d8bc"
      },
      "execution_count": 3,
      "outputs": [
        {
          "output_type": "stream",
          "name": "stdout",
          "text": [
            "      O1    O2   O3\n",
            "O1   0.4   0.2  0.4\n",
            "O2  0.45  0.45  0.1\n",
            "O3  0.45  0.25  0.3\n"
          ]
        }
      ]
    },
    {
      "cell_type": "code",
      "source": [
        "q = q_df.values\n",
        "print('\\n')\n",
        "print(q, q.shape)\n",
        "print('\\n')\n",
        "print(q_df.sum(axis=1))\n"
      ],
      "metadata": {
        "colab": {
          "base_uri": "https://localhost:8080/"
        },
        "id": "HoJnyI6IZPGc",
        "outputId": "a6ce07c4-6552-4c1f-9e4f-57fde23e4202"
      },
      "execution_count": 4,
      "outputs": [
        {
          "output_type": "stream",
          "name": "stdout",
          "text": [
            "\n",
            "\n",
            "[[0.4 0.2 0.4]\n",
            " [0.45 0.45 0.1]\n",
            " [0.45 0.25 0.3]] (3, 3)\n",
            "\n",
            "\n",
            "O1    1.0\n",
            "O2    1.0\n",
            "O3    1.0\n",
            "dtype: float64\n"
          ]
        }
      ]
    },
    {
      "cell_type": "code",
      "source": [
        "from pprint import pprint\n",
        "\n",
        "# create a function that maps transition probability dataframe\n",
        "# to markov edges and weights\n",
        "\n",
        "def _get_markov_edges(Q):\n",
        "    edges = {}\n",
        "    for col in Q.columns:\n",
        "        for idx in Q.index:\n",
        "            edges[(idx,col)] = Q.loc[idx,col]\n",
        "    return edges\n",
        "\n",
        "edges_wts = _get_markov_edges(q_df)\n",
        "pprint(edges_wts)"
      ],
      "metadata": {
        "colab": {
          "base_uri": "https://localhost:8080/"
        },
        "id": "i2-n1BOzZbKH",
        "outputId": "984c1fb0-16b9-4308-88f7-cec1f61ef0af"
      },
      "execution_count": 5,
      "outputs": [
        {
          "output_type": "stream",
          "name": "stdout",
          "text": [
            "{('O1', 'O1'): 0.4,\n",
            " ('O1', 'O2'): 0.2,\n",
            " ('O1', 'O3'): 0.4,\n",
            " ('O2', 'O1'): 0.45,\n",
            " ('O2', 'O2'): 0.45,\n",
            " ('O2', 'O3'): 0.1,\n",
            " ('O3', 'O1'): 0.45,\n",
            " ('O3', 'O2'): 0.25,\n",
            " ('O3', 'O3'): 0.3}\n"
          ]
        }
      ]
    },
    {
      "cell_type": "code",
      "source": [
        "# create graph object\n",
        "G = nx.MultiDiGraph()"
      ],
      "metadata": {
        "id": "YsiLUWnwZjiW"
      },
      "execution_count": 6,
      "outputs": []
    },
    {
      "cell_type": "code",
      "source": [
        "# nodes correspond to states\n",
        "G.add_nodes_from(states)\n",
        "print('Nodes:\\n')\n",
        "print(G.nodes())\n",
        "print('\\n')"
      ],
      "metadata": {
        "colab": {
          "base_uri": "https://localhost:8080/"
        },
        "id": "eFanuiTPZt02",
        "outputId": "13906ac1-24a0-4772-d05b-0a8dee10aab1"
      },
      "execution_count": 7,
      "outputs": [
        {
          "output_type": "stream",
          "name": "stdout",
          "text": [
            "Nodes:\n",
            "\n",
            "['O1', 'O2', 'O3']\n",
            "\n",
            "\n"
          ]
        }
      ]
    },
    {
      "cell_type": "code",
      "source": [],
      "metadata": {
        "id": "3pxrhZXjaVPq"
      },
      "execution_count": null,
      "outputs": []
    },
    {
      "cell_type": "code",
      "source": [
        "\n",
        "# edges represent transition probabilities\n",
        "for k, v in edges_wts.items():\n",
        "    tmp_origin, tmp_destination = k[0], k[1]\n",
        "    G.add_edge(tmp_origin, tmp_destination, weight=v, label=v)\n",
        "print('Edges:')\n",
        "pprint(G.edges(data=True))"
      ],
      "metadata": {
        "colab": {
          "base_uri": "https://localhost:8080/"
        },
        "id": "mc9PdzrwZvZc",
        "outputId": "16274214-0677-43bc-9fa3-ba0545e7e19a"
      },
      "execution_count": 9,
      "outputs": [
        {
          "output_type": "stream",
          "name": "stdout",
          "text": [
            "Edges:\n",
            "OutMultiEdgeDataView([('O1', 'O1', {'weight': 0.4, 'label': 0.4}), ('O1', 'O2', {'weight': 0.2, 'label': 0.2}), ('O1', 'O3', {'weight': 0.4, 'label': 0.4}), ('O2', 'O1', {'weight': 0.45, 'label': 0.45}), ('O2', 'O2', {'weight': 0.45, 'label': 0.45}), ('O2', 'O3', {'weight': 0.1, 'label': 0.1}), ('O3', 'O1', {'weight': 0.45, 'label': 0.45}), ('O3', 'O2', {'weight': 0.25, 'label': 0.25}), ('O3', 'O3', {'weight': 0.3, 'label': 0.3})])\n"
          ]
        }
      ]
    },
    {
      "cell_type": "code",
      "source": [
        "pos = nx.drawing.nx_pydot.graphviz_layout(G, prog='dot')\n",
        "nx.draw_networkx(G, pos)"
      ],
      "metadata": {
        "colab": {
          "base_uri": "https://localhost:8080/",
          "height": 497
        },
        "id": "9swVWeXJahtQ",
        "outputId": "3011a2a0-9b77-4272-d6da-cc758a5cc9ad"
      },
      "execution_count": 10,
      "outputs": [
        {
          "output_type": "stream",
          "name": "stderr",
          "text": [
            "<ipython-input-10-4a1a445e3a46>:1: DeprecationWarning: nx.nx_pydot.graphviz_layout depends on the pydot package, which has known issues and is not actively maintained. Consider using nx.nx_agraph.graphviz_layout instead.\n",
            "\n",
            "See https://github.com/networkx/networkx/issues/5723\n",
            "  pos = nx.drawing.nx_pydot.graphviz_layout(G, prog='dot')\n"
          ]
        },
        {
          "output_type": "display_data",
          "data": {
            "text/plain": [
              "<Figure size 640x480 with 1 Axes>"
            ],
            "image/png": "[encoded data removed]"
          },
          "metadata": {}
        }
      ]
    },
    {
      "cell_type": "code",
      "source": [
        "# create edge labels for jupyter plot but is not necessary\n",
        "edge_labels = {(n1,n2):d['label'] for n1,n2,d in G.edges(data=True)}\n",
        "nx.draw_networkx_edge_labels(G , pos, edge_labels=edge_labels)\n",
        "nx.drawing.nx_pydot.write_dot(G, 'markov.dot')\n",
        "plt.show()"
      ],
      "metadata": {
        "colab": {
          "base_uri": "https://localhost:8080/",
          "height": 406
        },
        "id": "kmNq8Z37aurR",
        "outputId": "a8bb440d-ff8e-482b-9dd6-b1d464f64b69"
      },
      "execution_count": 11,
      "outputs": [
        {
          "output_type": "display_data",
          "data": {
            "text/plain": [
              "<Figure size 640x480 with 1 Axes>"
            ],
            "image/png": "[encoded data removed]"
          },
          "metadata": {}
        }
      ]
    },
    {
      "cell_type": "code",
      "source": [
        "# create state space and initial state probabilities\n",
        "\n",
        "hidden_states = ['S1', 'S2']\n",
        "pi = [0.5, 0.5]\n",
        "print('\\n')\n",
        "state_space = pd.Series(pi, index=hidden_states, name='states')\n",
        "print(state_space)\n",
        "print('\\n')\n",
        "print(state_space.sum())\n"
      ],
      "metadata": {
        "colab": {
          "base_uri": "https://localhost:8080/"
        },
        "id": "1RjhJX-ja05u",
        "outputId": "0bfcf108-5a2e-427a-bc8a-fecc9ba062c7"
      },
      "execution_count": 12,
      "outputs": [
        {
          "output_type": "stream",
          "name": "stdout",
          "text": [
            "\n",
            "\n",
            "S1    0.5\n",
            "S2    0.5\n",
            "Name: states, dtype: float64\n",
            "\n",
            "\n",
            "1.0\n"
          ]
        }
      ]
    },
    {
      "cell_type": "code",
      "source": [
        "# create hidden transition matrix\n",
        "# a or alpha\n",
        "#   = transition probability matrix of changing states given a state\n",
        "# matrix is size (M x M) where M is number of states\n",
        "\n",
        "a_df = pd.DataFrame(columns=hidden_states, index=hidden_states)\n",
        "a_df.loc[hidden_states[0]] = [0.7, 0.3]\n",
        "a_df.loc[hidden_states[1]] = [0.4, 0.6]\n",
        "\n",
        "print(a_df)"
      ],
      "metadata": {
        "colab": {
          "base_uri": "https://localhost:8080/"
        },
        "id": "F47u5lfYa8NG",
        "outputId": "bb50cae3-3a4d-4bad-86d8-8f7995ffc8f2"
      },
      "execution_count": 13,
      "outputs": [
        {
          "output_type": "stream",
          "name": "stdout",
          "text": [
            "     S1   S2\n",
            "S1  0.7  0.3\n",
            "S2  0.4  0.6\n"
          ]
        }
      ]
    },
    {
      "cell_type": "code",
      "source": [
        "a = a_df.values\n",
        "print('\\n')\n",
        "print(a)\n",
        "print(a.shape)\n",
        "print('\\n')\n",
        "print(a_df.sum(axis=1))"
      ],
      "metadata": {
        "colab": {
          "base_uri": "https://localhost:8080/"
        },
        "id": "QA5xnSEjbJHr",
        "outputId": "248582ae-7f9a-46eb-b304-9f53a9225e18"
      },
      "execution_count": 14,
      "outputs": [
        {
          "output_type": "stream",
          "name": "stdout",
          "text": [
            "\n",
            "\n",
            "[[0.7 0.3]\n",
            " [0.4 0.6]]\n",
            "(2, 2)\n",
            "\n",
            "\n",
            "S1    1.0\n",
            "S2    1.0\n",
            "dtype: float64\n"
          ]
        }
      ]
    },
    {
      "cell_type": "code",
      "source": [
        "# create matrix of observation (emission) probabilities\n",
        "# b or beta = observation probabilities given state\n",
        "# matrix is size (M x O) where M is number of states\n",
        "# and O is number of different possible observations\n",
        "\n",
        "observable_states = states\n",
        "\n",
        "b_df = pd.DataFrame(columns=observable_states, index=hidden_states)\n",
        "b_df.loc[hidden_states[0]] = [0.2, 0.6, 0.2]\n",
        "b_df.loc[hidden_states[1]] = [0.4, 0.1, 0.5]\n",
        "\n",
        "print(b_df)"
      ],
      "metadata": {
        "colab": {
          "base_uri": "https://localhost:8080/"
        },
        "id": "y2e8Ei3CbOCm",
        "outputId": "3cadf62d-fefd-4a57-e0cf-2694b4c8eec2"
      },
      "execution_count": 15,
      "outputs": [
        {
          "output_type": "stream",
          "name": "stdout",
          "text": [
            "     O1   O2   O3\n",
            "S1  0.2  0.6  0.2\n",
            "S2  0.4  0.1  0.5\n"
          ]
        }
      ]
    },
    {
      "cell_type": "code",
      "source": [
        "b = b_df.values\n",
        "print('\\n')\n",
        "print(b)\n",
        "print(b.shape)\n",
        "print('\\n')\n",
        "print(b_df.sum(axis=1))\n"
      ],
      "metadata": {
        "colab": {
          "base_uri": "https://localhost:8080/"
        },
        "id": "6EkYRctdbVWK",
        "outputId": "b7d8c7c7-b438-4ee7-f315-326d996a535c"
      },
      "execution_count": 16,
      "outputs": [
        {
          "output_type": "stream",
          "name": "stdout",
          "text": [
            "\n",
            "\n",
            "[[0.2 0.6 0.2]\n",
            " [0.4 0.1 0.5]]\n",
            "(2, 3)\n",
            "\n",
            "\n",
            "S1    1.0\n",
            "S2    1.0\n",
            "dtype: float64\n"
          ]
        }
      ]
    },
    {
      "cell_type": "code",
      "source": [
        "# create graph edges and weights\n",
        "\n",
        "hide_edges_wts = _get_markov_edges(a_df)\n",
        "pprint(hide_edges_wts)\n",
        "\n",
        "emit_edges_wts = _get_markov_edges(b_df)\n",
        "pprint(emit_edges_wts)\n",
        "\n",
        "# create graph object\n",
        "G = nx.MultiDiGraph()"
      ],
      "metadata": {
        "colab": {
          "base_uri": "https://localhost:8080/"
        },
        "id": "O9_ZOIn4baDH",
        "outputId": "72c18590-f41f-4424-c4b5-fe4c041f751c"
      },
      "execution_count": 17,
      "outputs": [
        {
          "output_type": "stream",
          "name": "stdout",
          "text": [
            "{('S1', 'S1'): 0.7, ('S1', 'S2'): 0.3, ('S2', 'S1'): 0.4, ('S2', 'S2'): 0.6}\n",
            "{('S1', 'O1'): 0.2,\n",
            " ('S1', 'O2'): 0.6,\n",
            " ('S1', 'O3'): 0.2,\n",
            " ('S2', 'O1'): 0.4,\n",
            " ('S2', 'O2'): 0.1,\n",
            " ('S2', 'O3'): 0.5}\n"
          ]
        }
      ]
    },
    {
      "cell_type": "code",
      "source": [
        "# nodes correspond to states\n",
        "G.add_nodes_from(hidden_states)\n",
        "print('Nodes:\\n')\n",
        "print(G.nodes())\n",
        "print('\\n')"
      ],
      "metadata": {
        "colab": {
          "base_uri": "https://localhost:8080/"
        },
        "id": "hdu6_V8rblEG",
        "outputId": "a5d5ebf0-cc4a-4535-92e5-25f8db4a86df"
      },
      "execution_count": 18,
      "outputs": [
        {
          "output_type": "stream",
          "name": "stdout",
          "text": [
            "Nodes:\n",
            "\n",
            "['S1', 'S2']\n",
            "\n",
            "\n"
          ]
        }
      ]
    },
    {
      "cell_type": "code",
      "source": [
        "# edges represent hidden probabilities\n",
        "for k, v in hide_edges_wts.items():\n",
        "    tmp_origin, tmp_destination = k[0], k[1]\n",
        "    G.add_edge(tmp_origin, tmp_destination, weight=v, label=v)\n",
        "\n",
        "# edges represent emission probabilities\n",
        "for k, v in emit_edges_wts.items():\n",
        "    tmp_origin, tmp_destination = k[0], k[1]\n",
        "    G.add_edge(tmp_origin, tmp_destination, weight=v, label=v)\n",
        "\n",
        "print('Edges:')\n",
        "pprint(G.edges(data=True))"
      ],
      "metadata": {
        "colab": {
          "base_uri": "https://localhost:8080/"
        },
        "id": "0l7gyO55bpvs",
        "outputId": "15f8e323-e981-4b00-e6fa-b55975b397e7"
      },
      "execution_count": 19,
      "outputs": [
        {
          "output_type": "stream",
          "name": "stdout",
          "text": [
            "Edges:\n",
            "OutMultiEdgeDataView([('S1', 'S1', {'weight': 0.7, 'label': 0.7}), ('S1', 'S2', {'weight': 0.3, 'label': 0.3}), ('S1', 'O1', {'weight': 0.2, 'label': 0.2}), ('S1', 'O2', {'weight': 0.6, 'label': 0.6}), ('S1', 'O3', {'weight': 0.2, 'label': 0.2}), ('S2', 'S1', {'weight': 0.4, 'label': 0.4}), ('S2', 'S2', {'weight': 0.6, 'label': 0.6}), ('S2', 'O1', {'weight': 0.4, 'label': 0.4}), ('S2', 'O2', {'weight': 0.1, 'label': 0.1}), ('S2', 'O3', {'weight': 0.5, 'label': 0.5})])\n"
          ]
        }
      ]
    },
    {
      "cell_type": "code",
      "source": [
        "pos = nx.drawing.nx_pydot.graphviz_layout(G, prog='neato')\n",
        "nx.draw_networkx(G, pos)\n",
        "plt.show()\n",
        "\n",
        "# create edge labels\n",
        "emit_edge_labels = {(n1,n2):d['label'] for n1,n2,d in G.edges(data=True)}\n",
        "nx.draw_networkx_edge_labels(G , pos, edge_labels=emit_edge_labels)\n",
        "#plt.show()\n",
        "nx.drawing.nx_pydot.write_dot(G, 'hidden_markov.dot')\n"
      ],
      "metadata": {
        "colab": {
          "base_uri": "https://localhost:8080/",
          "height": 886
        },
        "id": "0_n9h3n2bxpB",
        "outputId": "d1030330-38bc-4298-e99b-9c781fc3d54c"
      },
      "execution_count": 20,
      "outputs": [
        {
          "output_type": "stream",
          "name": "stderr",
          "text": [
            "<ipython-input-20-e5c76f0145f7>:1: DeprecationWarning: nx.nx_pydot.graphviz_layout depends on the pydot package, which has known issues and is not actively maintained. Consider using nx.nx_agraph.graphviz_layout instead.\n",
            "\n",
            "See https://github.com/networkx/networkx/issues/5723\n",
            "  pos = nx.drawing.nx_pydot.graphviz_layout(G, prog='neato')\n"
          ]
        },
        {
          "output_type": "display_data",
          "data": {
            "text/plain": [
              "<Figure size 640x480 with 1 Axes>"
            ],
            "image/png": "[encoded data removed]"
          },
          "metadata": {}
        },
        {
          "output_type": "display_data",
          "data": {
            "text/plain": [
              "<Figure size 640x480 with 1 Axes>"
            ],
            "image/png": "[encoded data removed]"
          },
          "metadata": {}
        }
      ]
    },
    {
      "cell_type": "code",
      "source": [
        "# observation sequence of dog's behaviors\n",
        "# observations are encoded numerically\n",
        "\n",
        "obs_map = {'O1':0, 'O2':1, 'O3':2}\n",
        "obs = np.array([1,1,2,1,0,1,2,1,0,2,2,0,1,0,1])\n",
        "\n",
        "inv_obs_map = dict((v,k) for k, v in obs_map.items())\n",
        "obs_seq = [inv_obs_map[v] for v in list(obs)]\n",
        "\n",
        "print( pd.DataFrame(np.column_stack([obs, obs_seq]),\n",
        "                columns=['Obs_code', 'Obs_seq']) )"
      ],
      "metadata": {
        "colab": {
          "base_uri": "https://localhost:8080/"
        },
        "id": "I0thQzrBb8wX",
        "outputId": "53f34c25-72d2-44c9-d7c7-781f83074fb3"
      },
      "execution_count": 21,
      "outputs": [
        {
          "output_type": "stream",
          "name": "stdout",
          "text": [
            "   Obs_code Obs_seq\n",
            "0         1      O2\n",
            "1         1      O2\n",
            "2         2      O3\n",
            "3         1      O2\n",
            "4         0      O1\n",
            "5         1      O2\n",
            "6         2      O3\n",
            "7         1      O2\n",
            "8         0      O1\n",
            "9         2      O3\n",
            "10        2      O3\n",
            "11        0      O1\n",
            "12        1      O2\n",
            "13        0      O1\n",
            "14        1      O2\n"
          ]
        }
      ]
    },
    {
      "cell_type": "code",
      "source": [
        "def viterbi(pi,a,b,obs):\n",
        "\n",
        "\tnStates = np.shape(b)[0]\n",
        "\tT = np.shape(obs)[0]\n",
        "\n",
        "\tpath = np.zeros(T)\n",
        "\tdelta = np.zeros((nStates,T))\n",
        "\tphi = np.zeros((nStates,T))\n",
        "\n",
        "\tdelta[:,0] = pi * b[:,obs[0]]\n",
        "\tphi[:,0] = 0\n",
        "\n",
        "\tfor t in range(1,T):\n",
        "\t\tfor s in range(nStates):\n",
        "\t\t\tdelta[s,t] = np.max(delta[:,t-1]*a[:,s])*b[s,obs[t]]\n",
        "\t\t\tphi[s,t] = np.argmax(delta[:,t-1]*a[:,s])\n",
        "\n",
        "\tpath[T-1] = np.argmax(delta[:,T-1])\n",
        "\tfor t in range(T-2,-1,-1):\n",
        "\t\t#path[t] = phi[int(path[t+1]): int(t+1) , int(t+1)]\n",
        "\t\tpath[t] = phi[int(path[t+1]) , int(t+1)]\n",
        "\n",
        "\treturn path,delta, phi"
      ],
      "metadata": {
        "id": "s4M53le8cHYJ"
      },
      "execution_count": 22,
      "outputs": []
    },
    {
      "cell_type": "code",
      "source": [
        "path, delta, phi = viterbi(pi, a, b, obs)\n",
        "print('\\n')\n",
        "print('single best state path: ', path)\n",
        "print('delta:\\n', delta)\n",
        "print('phi:\\n', phi)"
      ],
      "metadata": {
        "colab": {
          "base_uri": "https://localhost:8080/"
        },
        "id": "aMqMje2kcQBF",
        "outputId": "f682d28b-50bb-4b3e-a873-2587cfa80a33"
      },
      "execution_count": 23,
      "outputs": [
        {
          "output_type": "stream",
          "name": "stdout",
          "text": [
            "\n",
            "\n",
            "single best state path:  [0. 0. 0. 0. 0. 0. 0. 0. 1. 1. 1. 1. 0. 0. 0.]\n",
            "delta:\n",
            " [[3.00000000e-01 1.26000000e-01 1.76400000e-02 7.40880000e-03\n",
            "  1.03723200e-03 4.35637440e-04 6.09892416e-05 2.56154815e-05\n",
            "  3.58616741e-06 5.02063437e-07 7.37725866e-08 2.21317760e-08\n",
            "  1.59348787e-08 2.23088302e-09 9.36970868e-10]\n",
            " [5.00000000e-02 9.00000000e-03 1.89000000e-02 1.13400000e-03\n",
            "  8.89056000e-04 5.33433600e-05 6.53456160e-05 3.92073696e-06\n",
            "  3.07385778e-06 9.22157333e-07 2.76647200e-07 6.63953280e-08\n",
            "  3.98371968e-09 1.91218545e-09 1.14731127e-10]]\n",
            "phi:\n",
            " [[0. 0. 0. 0. 0. 0. 0. 0. 0. 0. 1. 1. 1. 0. 0.]\n",
            " [0. 0. 0. 1. 0. 1. 0. 1. 0. 1. 1. 1. 1. 0. 1.]]\n"
          ]
        }
      ]
    },
    {
      "cell_type": "code",
      "source": [
        "state_map = {0:'S1', 1:'S2'}\n",
        "state_path = [state_map[v] for v in path]"
      ],
      "metadata": {
        "id": "qCPHJLwJcfwW"
      },
      "execution_count": 24,
      "outputs": []
    },
    {
      "cell_type": "code",
      "source": [
        "result = (pd.DataFrame()\n",
        " .assign(Observation=obs_seq)\n",
        " .assign(Best_Path=state_path))\n",
        "\n",
        "print(result)"
      ],
      "metadata": {
        "colab": {
          "base_uri": "https://localhost:8080/"
        },
        "id": "arJarkMAchlB",
        "outputId": "e86c63d2-d255-4476-b37e-4c8f832ee3e9"
      },
      "execution_count": 25,
      "outputs": [
        {
          "output_type": "stream",
          "name": "stdout",
          "text": [
            "   Observation Best_Path\n",
            "0           O2        S1\n",
            "1           O2        S1\n",
            "2           O3        S1\n",
            "3           O2        S1\n",
            "4           O1        S1\n",
            "5           O2        S1\n",
            "6           O3        S1\n",
            "7           O2        S1\n",
            "8           O1        S2\n",
            "9           O3        S2\n",
            "10          O3        S2\n",
            "11          O1        S2\n",
            "12          O2        S1\n",
            "13          O1        S1\n",
            "14          O2        S1\n"
          ]
        }
      ]
    }
  ]
}